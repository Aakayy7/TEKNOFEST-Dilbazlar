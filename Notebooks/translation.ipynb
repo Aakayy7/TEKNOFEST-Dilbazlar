{
 "cells": [
  {
   "cell_type": "markdown",
   "id": "ae60561d-ca57-48e7-9a53-531cdbcfdb89",
   "metadata": {},
   "source": [
    "## Import Libraries"
   ]
  },
  {
   "cell_type": "code",
   "execution_count": 1,
   "id": "be87c1f3-27f8-40a9-b8c3-6eb08c4624d1",
   "metadata": {},
   "outputs": [],
   "source": [
    "from transformers import AutoTokenizer, AutoModelForSeq2SeqLM\n",
    "import torch\n",
    "import pandas as pd\n",
    "\n",
    "from tqdm import tqdm"
   ]
  },
  {
   "cell_type": "markdown",
   "id": "e66defd6-9767-4276-b29b-d317419d35f9",
   "metadata": {},
   "source": [
    "## Read Data "
   ]
  },
  {
   "cell_type": "code",
   "execution_count": 2,
   "id": "ecc0a12e-d883-4ea9-b153-8954e907b66e",
   "metadata": {},
   "outputs": [],
   "source": [
    "data = pd.read_excel(\"../Data/dysthymia_llm_filtered_en.xlsx\")"
   ]
  },
  {
   "cell_type": "code",
   "execution_count": 3,
   "id": "62c9ef8b-fbeb-4f75-8b8c-0f122be83bfe",
   "metadata": {},
   "outputs": [],
   "source": [
    "pd.set_option('display.max_colwidth', None)"
   ]
  },
  {
   "cell_type": "code",
   "execution_count": 4,
   "id": "c974a4c3-5809-45a8-a392-fa4f364883ea",
   "metadata": {},
   "outputs": [
    {
     "name": "stdout",
     "output_type": "stream",
     "text": [
      "<class 'pandas.core.frame.DataFrame'>\n",
      "RangeIndex: 1055 entries, 0 to 1054\n",
      "Data columns (total 2 columns):\n",
      " #   Column  Non-Null Count  Dtype \n",
      "---  ------  --------------  ----- \n",
      " 0   Result  1055 non-null   object\n",
      " 1   Text    1054 non-null   object\n",
      "dtypes: object(2)\n",
      "memory usage: 16.6+ KB\n"
     ]
    }
   ],
   "source": [
    "data.info()"
   ]
  },
  {
   "cell_type": "code",
   "execution_count": 5,
   "id": "d957d359-a07c-4f93-9e9d-73a0539e4375",
   "metadata": {},
   "outputs": [],
   "source": [
    "data = data[data['Text'].apply(lambda x: isinstance(x, str))]"
   ]
  },
  {
   "cell_type": "code",
   "execution_count": 6,
   "id": "244eb4f0-905e-49c9-be19-b5530c74a3f0",
   "metadata": {},
   "outputs": [
    {
     "name": "stdout",
     "output_type": "stream",
     "text": [
      "<class 'pandas.core.frame.DataFrame'>\n",
      "Index: 1054 entries, 0 to 1054\n",
      "Data columns (total 2 columns):\n",
      " #   Column  Non-Null Count  Dtype \n",
      "---  ------  --------------  ----- \n",
      " 0   Result  1054 non-null   object\n",
      " 1   Text    1054 non-null   object\n",
      "dtypes: object(2)\n",
      "memory usage: 24.7+ KB\n"
     ]
    }
   ],
   "source": [
    "data.info()"
   ]
  },
  {
   "cell_type": "code",
   "execution_count": 7,
   "id": "0ed39881-d739-425a-a599-361574bcc309",
   "metadata": {},
   "outputs": [
    {
     "data": {
      "text/html": [
       "<div>\n",
       "<style scoped>\n",
       "    .dataframe tbody tr th:only-of-type {\n",
       "        vertical-align: middle;\n",
       "    }\n",
       "\n",
       "    .dataframe tbody tr th {\n",
       "        vertical-align: top;\n",
       "    }\n",
       "\n",
       "    .dataframe thead th {\n",
       "        text-align: right;\n",
       "    }\n",
       "</style>\n",
       "<table border=\"1\" class=\"dataframe\">\n",
       "  <thead>\n",
       "    <tr style=\"text-align: right;\">\n",
       "      <th></th>\n",
       "      <th>Result</th>\n",
       "      <th>Text</th>\n",
       "    </tr>\n",
       "  </thead>\n",
       "  <tbody>\n",
       "    <tr>\n",
       "      <th>0</th>\n",
       "      <td>yes</td>\n",
       "      <td>I am productive and motivated... ...fuck everything. I want to rant, I want to complain, but why even bother. Nothing’s gonna change anyway. What gives me the right to complain, I’m a shit eater too.</td>\n",
       "    </tr>\n",
       "    <tr>\n",
       "      <th>1</th>\n",
       "      <td>yes</td>\n",
       "      <td>when I attempt to drive it almost doesn’t feel real and I’ve gotten a little lightheaded before. my mind kind of drifts off when driving</td>\n",
       "    </tr>\n",
       "    <tr>\n",
       "      <th>2</th>\n",
       "      <td>no</td>\n",
       "      <td>Hey everyone,...</td>\n",
       "    </tr>\n",
       "    <tr>\n",
       "      <th>3</th>\n",
       "      <td>yes</td>\n",
       "      <td>whenever i get the house to myself... it’s like i intentionally turn into a disgusting slob... i felt the need to hide from the world... i can never bring myself to cook, i’ll eat disgustingly... i’ve worn the same sweatpants for the past 4 days... being in this lazy isolated state feels most natural and it’s what i want all the time. i don’t care about anything.</td>\n",
       "    </tr>\n",
       "    <tr>\n",
       "      <th>4</th>\n",
       "      <td>yes</td>\n",
       "      <td>I've been suicidal for the past 10 years and still can't find a good reason to stay alive. I don't feel anything – except physical pain, exhaustion, sadness and numbness. Nothing excites me. Nothing makes me 'happy' or whatever. I'm not looking forward to anything because I'm so so exhausted all the time, I don't have the energy to do anything and if I push myself I end up in a big flare up from my fibromyalgia. And it just adds such a big feeling of powerlessness.</td>\n",
       "    </tr>\n",
       "  </tbody>\n",
       "</table>\n",
       "</div>"
      ],
      "text/plain": [
       "  Result  \\\n",
       "0    yes   \n",
       "1    yes   \n",
       "2     no   \n",
       "3    yes   \n",
       "4    yes   \n",
       "\n",
       "                                                                                                                                                                                                                                                                                                                                                                                                                                                                                    Text  \n",
       "0                                                                                                                                                                                                                                                                                I am productive and motivated... ...fuck everything. I want to rant, I want to complain, but why even bother. Nothing’s gonna change anyway. What gives me the right to complain, I’m a shit eater too.  \n",
       "1                                                                                                                                                                                                                                                                                                                                               when I attempt to drive it almost doesn’t feel real and I’ve gotten a little lightheaded before. my mind kind of drifts off when driving  \n",
       "2                                                                                                                                                                                                                                                                                                                                                                                                                                                                       Hey everyone,...  \n",
       "3                                                                                                          whenever i get the house to myself... it’s like i intentionally turn into a disgusting slob... i felt the need to hide from the world... i can never bring myself to cook, i’ll eat disgustingly... i’ve worn the same sweatpants for the past 4 days... being in this lazy isolated state feels most natural and it’s what i want all the time. i don’t care about anything.  \n",
       "4  I've been suicidal for the past 10 years and still can't find a good reason to stay alive. I don't feel anything – except physical pain, exhaustion, sadness and numbness. Nothing excites me. Nothing makes me 'happy' or whatever. I'm not looking forward to anything because I'm so so exhausted all the time, I don't have the energy to do anything and if I push myself I end up in a big flare up from my fibromyalgia. And it just adds such a big feeling of powerlessness.  "
      ]
     },
     "execution_count": 7,
     "metadata": {},
     "output_type": "execute_result"
    }
   ],
   "source": [
    "data.head()"
   ]
  },
  {
   "cell_type": "markdown",
   "id": "7f494ec9-1410-4bc6-92fb-39f05b320e3c",
   "metadata": {},
   "source": [
    "from transformers import MarianMTModel, MarianTokenizer\n",
    "\n",
    "model_name = \"Helsinki-NLP/opus-mt-tc-big-en-tr\"\n",
    "tokenizer = MarianTokenizer.from_pretrained(model_name)\n",
    "model = MarianMTModel.from_pretrained(model_name)\n",
    "\n",
    "# Çeviri fonksiyonunu tanımla\n",
    "def translate_text(text):\n",
    "    inputs = tokenizer([text], return_tensors=\"pt\", padding=True)\n",
    "    translated = model.generate(**inputs)\n",
    "    translated_text = tokenizer.decode(translated[0], skip_special_tokens=True)\n",
    "    return translated_text\n",
    "\n",
    "# DataFrame'deki her satır için çeviri işlemi uygula ve yeni bir kolona ekle\n",
    "data['Translated_Text'] = data['Text'].apply(translate_text)\n",
    "\n",
    "# Sonuçları göster\n",
    "print(data)\n"
   ]
  },
  {
   "cell_type": "code",
   "execution_count": 8,
   "id": "81098c73-25c1-49e9-9a55-69ab399cc141",
   "metadata": {},
   "outputs": [
    {
     "data": {
      "text/plain": [
       "MarianMTModel(\n",
       "  (model): MarianModel(\n",
       "    (shared): Embedding(57060, 1024, padding_idx=57059)\n",
       "    (encoder): MarianEncoder(\n",
       "      (embed_tokens): Embedding(57060, 1024, padding_idx=57059)\n",
       "      (embed_positions): MarianSinusoidalPositionalEmbedding(1024, 1024)\n",
       "      (layers): ModuleList(\n",
       "        (0-5): 6 x MarianEncoderLayer(\n",
       "          (self_attn): MarianAttention(\n",
       "            (k_proj): Linear(in_features=1024, out_features=1024, bias=True)\n",
       "            (v_proj): Linear(in_features=1024, out_features=1024, bias=True)\n",
       "            (q_proj): Linear(in_features=1024, out_features=1024, bias=True)\n",
       "            (out_proj): Linear(in_features=1024, out_features=1024, bias=True)\n",
       "          )\n",
       "          (self_attn_layer_norm): LayerNorm((1024,), eps=1e-05, elementwise_affine=True)\n",
       "          (activation_fn): ReLU()\n",
       "          (fc1): Linear(in_features=1024, out_features=4096, bias=True)\n",
       "          (fc2): Linear(in_features=4096, out_features=1024, bias=True)\n",
       "          (final_layer_norm): LayerNorm((1024,), eps=1e-05, elementwise_affine=True)\n",
       "        )\n",
       "      )\n",
       "    )\n",
       "    (decoder): MarianDecoder(\n",
       "      (embed_tokens): Embedding(57060, 1024, padding_idx=57059)\n",
       "      (embed_positions): MarianSinusoidalPositionalEmbedding(1024, 1024)\n",
       "      (layers): ModuleList(\n",
       "        (0-5): 6 x MarianDecoderLayer(\n",
       "          (self_attn): MarianAttention(\n",
       "            (k_proj): Linear(in_features=1024, out_features=1024, bias=True)\n",
       "            (v_proj): Linear(in_features=1024, out_features=1024, bias=True)\n",
       "            (q_proj): Linear(in_features=1024, out_features=1024, bias=True)\n",
       "            (out_proj): Linear(in_features=1024, out_features=1024, bias=True)\n",
       "          )\n",
       "          (activation_fn): ReLU()\n",
       "          (self_attn_layer_norm): LayerNorm((1024,), eps=1e-05, elementwise_affine=True)\n",
       "          (encoder_attn): MarianAttention(\n",
       "            (k_proj): Linear(in_features=1024, out_features=1024, bias=True)\n",
       "            (v_proj): Linear(in_features=1024, out_features=1024, bias=True)\n",
       "            (q_proj): Linear(in_features=1024, out_features=1024, bias=True)\n",
       "            (out_proj): Linear(in_features=1024, out_features=1024, bias=True)\n",
       "          )\n",
       "          (encoder_attn_layer_norm): LayerNorm((1024,), eps=1e-05, elementwise_affine=True)\n",
       "          (fc1): Linear(in_features=1024, out_features=4096, bias=True)\n",
       "          (fc2): Linear(in_features=4096, out_features=1024, bias=True)\n",
       "          (final_layer_norm): LayerNorm((1024,), eps=1e-05, elementwise_affine=True)\n",
       "        )\n",
       "      )\n",
       "    )\n",
       "  )\n",
       "  (lm_head): Linear(in_features=1024, out_features=57060, bias=False)\n",
       ")"
      ]
     },
     "execution_count": 8,
     "metadata": {},
     "output_type": "execute_result"
    }
   ],
   "source": [
    "from transformers import MarianMTModel, MarianTokenizer\n",
    "\n",
    "model_name = \"Helsinki-NLP/opus-mt-tc-big-en-tr\"\n",
    "tokenizer = MarianTokenizer.from_pretrained(model_name)\n",
    "model = MarianMTModel.from_pretrained(model_name)\n",
    "\n",
    "device = \"cpu\"\n",
    "model.to(device)"
   ]
  },
  {
   "cell_type": "code",
   "execution_count": 9,
   "id": "c4922343-4e2a-45bc-990a-63dd58f6f1f5",
   "metadata": {},
   "outputs": [
    {
     "name": "stderr",
     "output_type": "stream",
     "text": [
      "Translating Process: 100%|███████████████████████████████████████████████████████████| 66/66 [1:06:57<00:00, 60.87s/it]"
     ]
    },
    {
     "name": "stdout",
     "output_type": "stream",
     "text": [
      "     Result  \\\n",
      "0       yes   \n",
      "1       yes   \n",
      "2        no   \n",
      "3       yes   \n",
      "4       yes   \n",
      "...     ...   \n",
      "1050    yes   \n",
      "1051    yes   \n",
      "1052    yes   \n",
      "1053    yes   \n",
      "1054    yes   \n",
      "\n",
      "                                                                                                                                                                                                                                                                                                                                                                                                                                                                                       Text  \\\n",
      "0                                                                                                                                                                                                                                                                                   I am productive and motivated... ...fuck everything. I want to rant, I want to complain, but why even bother. Nothing’s gonna change anyway. What gives me the right to complain, I’m a shit eater too.   \n",
      "1                                                                                                                                                                                                                                                                                                                                                  when I attempt to drive it almost doesn’t feel real and I’ve gotten a little lightheaded before. my mind kind of drifts off when driving   \n",
      "2                                                                                                                                                                                                                                                                                                                                                                                                                                                                          Hey everyone,...   \n",
      "3                                                                                                             whenever i get the house to myself... it’s like i intentionally turn into a disgusting slob... i felt the need to hide from the world... i can never bring myself to cook, i’ll eat disgustingly... i’ve worn the same sweatpants for the past 4 days... being in this lazy isolated state feels most natural and it’s what i want all the time. i don’t care about anything.   \n",
      "4     I've been suicidal for the past 10 years and still can't find a good reason to stay alive. I don't feel anything – except physical pain, exhaustion, sadness and numbness. Nothing excites me. Nothing makes me 'happy' or whatever. I'm not looking forward to anything because I'm so so exhausted all the time, I don't have the energy to do anything and if I push myself I end up in a big flare up from my fibromyalgia. And it just adds such a big feeling of powerlessness.   \n",
      "...                                                                                                                                                                                                                                                                                                                                                                                                                                                                                     ...   \n",
      "1050                                                         can't really bring myself to do much. The last time I had an episode this bad was a few years ago when I went suicidal for about two years and was then diagnosed. All I've really been doing for the past few days is lying in bed, crying, or watching TV. I've tried getting up to work on projects or exercise a bit, but it's just really physically and mentally exhausting, can't really last for more than 20 minutes.   \n",
      "1051                                                                                                                                                                                    My moods seem to change like the weather. I may be feeling OK or just kind of flat in the morning, then sometime during the day I just feel the dark clouds rolling in and I’m really down for however long it lasts. Or maybe I go to bed feeling neutral, then wake up to the dark cloud feeling.   \n",
      "1052                                                                                                                                                                                                                                               I tend to feel really empty, or kinda sad actually.. but also very empty and lonely. I try to distract myself but nothing seems fun... I continue this cycle daily and have been consuming a lot more alcohol these days to feel better.   \n",
      "1053                                                                                                                                                                                                                                                                                                                                              I've read so many stories of people being unable to recover from whatever symptoms their medication brought up or permanently made worse.   \n",
      "1054                                                                                                                                                                                                    I've been feeling stressed and on the brink of a burn out...I've also got dysthymia and a distinct fear of rejection...I feel so extremely worthless and stuck...my mental health is plummeting and there is just no place for me to go and I don't know what the point is anymore.   \n",
      "\n",
      "                                                                                                                                                                                                                                                                                                                                                                                                                         Translated_Text  \n",
      "0                                                                                                                                                                                                        Üretken ve motiveyim...... her şeyi sikeyim. Rant yapmak istiyorum, şikayet etmek istiyorum, ama neden zahmet etmek bile istiyorum. Zaten hiçbir şey değişmeyecek. Bana şikayet etme hakkı veren şey, ben de bir bok yiyiciyim.  \n",
      "1                                                                                                                                                                                                                                                                                                               Onu sürmeye çalıştığımda neredeyse gerçek hissetmiyor ve daha önce biraz başım döndü. Aklım araba sürerken sürükleniyor.  \n",
      "2                                                                                                                                                                                                                                                                                                                                                                                                                          Hey millet...  \n",
      "3                                                                              Ne zaman evi kendime alsam... Kasıtlı olarak iğrenç bir serseriye dönüşüyorum... dünyadan saklanma ihtiyacı hissettim... Kendimi asla yemek pişirmeye getiremem, iğrenç bir şekilde yiyeceğim... Son 4 gündür aynı eşofmanları giydim... bu tembel yalıtılmış durumda olmak en doğal hissettiriyor ve her zaman istediğim şey. Hiçbir şey umurumda değil.  \n",
      "4     Son 10 yıldır intihara meyilliyim ve hala hayatta kalmak için iyi bir neden bulamıyorum. Hiçbir şey hissetmiyorum - fiziksel acı, bitkinlik, üzüntü ve uyuşma dışında. Hiçbir şey beni heyecanlandırmıyor. Hiçbir şey beni'mutlu' ya da her neyse. Hiçbir şeyi dört gözle beklemiyorum çünkü her zaman çok yorgunum, bir şey yapacak enerjim yok ve kendimi zorlarsam, bu kadar büyük bir fibromiyalji patlamasına neden oluyorum.  \n",
      "...                                                                                                                                                                                                                                                                                                                                                                                                                                  ...  \n",
      "1050                             Kendimi pek bir şey yapmaya getiremiyorum. En son bu kadar kötü bir bölüm geçirdiğimde yaklaşık iki yıl boyunca intihara meyilliydim ve sonra teşhis edildim. Son birkaç gündür yaptığım tek şey yatakta yatmak, ağlamak veya TV izlemek. Projeler üzerinde çalışmaya veya biraz egzersiz yapmaya çalıştım, ama gerçekten fiziksel ve zihinsel olarak yorucu, gerçekten 20 dakikadan fazla dayanamıyor.  \n",
      "1051                                                                                                           Ruh halim hava gibi değişiyor gibi görünüyor. Sabahları iyi ya da bir nevi düz hissediyorum olabilir, daha sonra gün içinde bir ara karanlık bulutların yuvarlandığını hissediyorum ve ne kadar sürerse sürsün gerçekten düşüyorum. Ya da belki de yatağa tarafsız hissediyorum, sonra karanlık bulut hissine uyanıyorum.  \n",
      "1052                                                                                                                                       Kendimi gerçekten boş, ya da biraz üzgün hissetmeye meyilliyim aslında.. ama aynı zamanda çok boş ve yalnız. Dikkatimi dağıtmaya çalışıyorum ama hiçbir şey eğlenceli görünmüyor... Bu döngüye her gün devam ediyorum ve bugünlerde daha iyi hissetmek için çok daha fazla alkol tüketiyorum.  \n",
      "1053                                                                                                                                                                                                                                                                                                          İlaçlarının getirdiği veya kalıcı olarak daha da kötüleştirdiği belirtilerden kurtulamayan insanların hikayelerini okudum.  \n",
      "1054                                                                                                                                                                                    Stresli ve yanık bir yanık eşiğinde hissediyorum... Ayrıca distimi ve belirgin bir reddedilme korkum var... Kendimi çok değersiz ve sıkışmış hissediyorum... Ruh sağlığım düşüyor ve gidecek yerim yok ve artık noktanın ne olduğunu bilmiyorum.  \n",
      "\n",
      "[1054 rows x 3 columns]\n"
     ]
    },
    {
     "name": "stderr",
     "output_type": "stream",
     "text": [
      "\n"
     ]
    }
   ],
   "source": [
    "def batch_translate_text(texts, batch_size=8):\n",
    "    translated_texts = []\n",
    "    for i in tqdm(range(0, len(texts), batch_size), desc=\"Translating Process\"):\n",
    "        batch_texts = texts[i:i + batch_size]\n",
    "        inputs = tokenizer(batch_texts, return_tensors=\"pt\", padding=True, truncation=True).to(device)\n",
    "        translated = model.generate(**inputs)\n",
    "        translated_batch = [tokenizer.decode(t, skip_special_tokens=True) for t in translated]\n",
    "        translated_texts.extend(translated_batch)\n",
    "    return translated_texts\n",
    "\n",
    "texts = data['Text'].tolist()\n",
    "translated_texts = batch_translate_text(texts, batch_size=16)\n",
    "\n",
    "data['Translated_Text'] = translated_texts\n",
    "\n",
    "print(data)"
   ]
  },
  {
   "cell_type": "code",
   "execution_count": 10,
   "id": "05dc134e-df43-46ff-8dfd-2315d8a54b66",
   "metadata": {},
   "outputs": [],
   "source": [
    "data.to_excel(\"../Data/dysthymia_to_tr.xlsx\", index=False)"
   ]
  },
  {
   "cell_type": "code",
   "execution_count": null,
   "id": "a97f3815-5a4e-42e0-959f-a318e13f1cbe",
   "metadata": {},
   "outputs": [],
   "source": [
    "data.head()"
   ]
  },
  {
   "cell_type": "markdown",
   "id": "6c8b1b2f-94dc-4077-9211-0d6ef29f1277",
   "metadata": {},
   "source": [
    "data.to_csv(\"agoraphobia_translated_to_tr\", index=False)"
   ]
  },
  {
   "cell_type": "markdown",
   "id": "cd1197b1-898c-4626-beda-e326e15aa4db",
   "metadata": {},
   "source": [
    "df = pd.read_csv(\"agoraphobia_translated_to_tr\")"
   ]
  },
  {
   "cell_type": "code",
   "execution_count": null,
   "id": "60491970-4954-4666-8775-3a3a3063a598",
   "metadata": {},
   "outputs": [],
   "source": []
  }
 ],
 "metadata": {
  "kernelspec": {
   "display_name": "Psynexa Torch GPU (Python 3.11)",
   "language": "python",
   "name": "your_env_name"
  },
  "language_info": {
   "codemirror_mode": {
    "name": "ipython",
    "version": 3
   },
   "file_extension": ".py",
   "mimetype": "text/x-python",
   "name": "python",
   "nbconvert_exporter": "python",
   "pygments_lexer": "ipython3",
   "version": "3.11.5"
  }
 },
 "nbformat": 4,
 "nbformat_minor": 5
}
