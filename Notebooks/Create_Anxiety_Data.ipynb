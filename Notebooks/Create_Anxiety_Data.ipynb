{
 "cells": [
  {
   "cell_type": "markdown",
   "id": "27eb46e1-232a-42ed-b96c-20fb33540176",
   "metadata": {},
   "source": [
    "## Import Libraries"
   ]
  },
  {
   "cell_type": "code",
   "execution_count": 20,
   "id": "de0959af-4b08-4e91-83b8-1a3be7380631",
   "metadata": {},
   "outputs": [],
   "source": [
    "import os\n",
    "import glob\n",
    "import pandas as pd\n",
    "from tqdm import tqdm"
   ]
  },
  {
   "cell_type": "code",
   "execution_count": 12,
   "id": "a42d7179-9705-416c-9959-6c986725d410",
   "metadata": {},
   "outputs": [],
   "source": [
    "DISORDERS = ['agoraphobia', 'panic', 'phobia', 'selectivemutism', 'socialanxiety', 'anxiety']"
   ]
  },
  {
   "cell_type": "code",
   "execution_count": 19,
   "id": "cd8790c5-902c-49b2-83f9-6d5f552dd6ce",
   "metadata": {},
   "outputs": [],
   "source": [
    "df = pd.DataFrame()"
   ]
  },
  {
   "cell_type": "code",
   "execution_count": 16,
   "id": "f09f6998-2bcd-490c-8b7a-6cf393e9abd2",
   "metadata": {},
   "outputs": [
    {
     "name": "stdout",
     "output_type": "stream",
     "text": [
      "agoraphobia\n",
      "panic\n",
      "phobia\n",
      "selectivemutism\n",
      "socialanxiety\n"
     ]
    }
   ],
   "source": [
    "for disorder_file_name in glob.glob(\"../Data/Anxiety_Detection_Data/Reddit/*\"):\n",
    "    print()"
   ]
  },
  {
   "cell_type": "code",
   "execution_count": 27,
   "id": "dd0c5d95-4369-4d51-a06a-84925b2dd535",
   "metadata": {},
   "outputs": [
    {
     "name": "stderr",
     "output_type": "stream",
     "text": [
      "100%|████████████████████████████████████████████████████████████████████████████████████| 5/5 [00:00<00:00, 13.76it/s]\n"
     ]
    }
   ],
   "source": [
    "# *** Reddit ***\n",
    "reddit_df = pd.DataFrame()\n",
    "\n",
    "for disorder_file_name in tqdm(glob.glob(\"../Data/Anxiety_Detection_Data/Reddit/*\")):\n",
    "    disorder_df_temp = pd.read_excel(disorder_file_name)\n",
    "    disorder_df = pd.DataFrame({\n",
    "        \"text\": disorder_df_temp['Translated_Text'],\n",
    "        \"labels\": os.path.basename(disorder_file_name).split('.')[0],\n",
    "        \"source\": \"Reddit\"\n",
    "    })\n",
    "\n",
    "    if len(reddit_df) != 0:\n",
    "        reddit_df = pd.concat([reddit_df, disorder_df], axis=0).reset_index(drop=True)\n",
    "\n",
    "    else:\n",
    "        reddit_df = disorder_df.copy()"
   ]
  },
  {
   "cell_type": "code",
   "execution_count": 36,
   "id": "44eff43e-8b42-40cc-a814-c859cf6aa7d7",
   "metadata": {},
   "outputs": [
    {
     "name": "stderr",
     "output_type": "stream",
     "text": [
      "100%|████████████████████████████████████████████████████████████████████████████████████| 4/4 [00:00<00:00, 20.94it/s]\n"
     ]
    }
   ],
   "source": [
    "# *** Eksi ***\n",
    "eksi_df = pd.DataFrame()\n",
    "\n",
    "for disorder_file_name in tqdm(glob.glob(\"../Data/Anxiety_Detection_Data/Eksi/*\")):\n",
    "    disorder_df_temp = pd.read_excel(disorder_file_name)\n",
    "    disorder_df = pd.DataFrame({\n",
    "        \"text\": disorder_df_temp['Text'],\n",
    "        \"labels\": os.path.basename(disorder_file_name).split('.')[0],\n",
    "        \"source\": \"Eksi\"\n",
    "    })\n",
    "\n",
    "    if len(eksi_df) != 0:\n",
    "        eksi_df = pd.concat([eksi_df, disorder_df], axis=0).reset_index(drop=True)\n",
    "\n",
    "    else:\n",
    "        eksi_df = disorder_df.copy()"
   ]
  },
  {
   "cell_type": "code",
   "execution_count": 29,
   "id": "cf3ed077-9351-4162-8342-9d8f4d82cbc8",
   "metadata": {},
   "outputs": [
    {
     "name": "stdout",
     "output_type": "stream",
     "text": [
      "agoraphobia\n",
      "panic\n",
      "phobia\n",
      "selectivemutism\n",
      "socialanxiety\n",
      "anxiety\n"
     ]
    }
   ],
   "source": [
    "for disorder in DISORDERS:\n",
    "    print(disorder)"
   ]
  },
  {
   "cell_type": "code",
   "execution_count": null,
   "id": "18beb4f4-3e9c-48d2-8971-8f3b5c642469",
   "metadata": {},
   "outputs": [],
   "source": []
  }
 ],
 "metadata": {
  "kernelspec": {
   "display_name": "Python 3.11 (Psynexa CPU)",
   "language": "python",
   "name": "psynexa_cpu"
  },
  "language_info": {
   "codemirror_mode": {
    "name": "ipython",
    "version": 3
   },
   "file_extension": ".py",
   "mimetype": "text/x-python",
   "name": "python",
   "nbconvert_exporter": "python",
   "pygments_lexer": "ipython3",
   "version": "3.11.5"
  }
 },
 "nbformat": 4,
 "nbformat_minor": 5
}
