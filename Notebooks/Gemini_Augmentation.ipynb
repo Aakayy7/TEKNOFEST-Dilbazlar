{
 "cells": [
  {
   "cell_type": "markdown",
   "id": "5b774484-b446-4805-b9c0-47382dbf5978",
   "metadata": {},
   "source": [
    "## Import Libraries"
   ]
  },
  {
   "cell_type": "code",
   "execution_count": 1,
   "id": "70860696-6d39-4936-a714-ab7ec2d346c5",
   "metadata": {},
   "outputs": [],
   "source": [
    "import os\n",
    "import time\n",
    "import google.generativeai as genai\n",
    "import ast\n",
    "import re\n",
    "import pandas as pd\n",
    "from tqdm import tqdm\n",
    "import time"
   ]
  },
  {
   "cell_type": "markdown",
   "id": "27c40023-1ff2-458e-ab37-80477fac0654",
   "metadata": {},
   "source": [
    "## Configuration"
   ]
  },
  {
   "cell_type": "code",
   "execution_count": 2,
   "id": "ca8dc97b-8b8e-476f-9eac-3b9d67bebdb8",
   "metadata": {},
   "outputs": [],
   "source": [
    "safety_settings = [\n",
    "    {\n",
    "        \"category\": \"HARM_CATEGORY_HARASSMENT\",\n",
    "        \"threshold\": \"BLOCK_NONE\"\n",
    "    },\n",
    "    {\n",
    "        \"category\": \"HARM_CATEGORY_HATE_SPEECH\",\n",
    "        \"threshold\": \"BLOCK_NONE\"\n",
    "    },\n",
    "    {\n",
    "        \"category\": \"HARM_CATEGORY_SEXUALLY_EXPLICIT\",\n",
    "        \"threshold\": \"BLOCK_NONE\"\n",
    "    },\n",
    "    {\n",
    "        \"category\": \"HARM_CATEGORY_DANGEROUS_CONTENT\",\n",
    "        \"threshold\": \"BLOCK_NONE\"\n",
    "    }\n",
    "]"
   ]
  },
  {
   "cell_type": "code",
   "execution_count": 3,
   "id": "d2bea9c6-63c3-469e-a194-d0c8ee806497",
   "metadata": {},
   "outputs": [],
   "source": [
    "genai.configure(api_key=\"API-KEY\") # Add your API_KEY not mine\n",
    "\n",
    "model = genai.GenerativeModel('gemini-1.5-flash', safety_settings=safety_settings)"
   ]
  },
  {
   "cell_type": "markdown",
   "id": "0ce6d7ef-4842-42ca-8093-3cb0ddcb47fa",
   "metadata": {},
   "source": [
    "## Read the Data"
   ]
  },
  {
   "cell_type": "code",
   "execution_count": 4,
   "id": "41a10771-0587-4207-9e05-b17bb9fcfb8d",
   "metadata": {},
   "outputs": [
    {
     "data": {
      "text/html": [
       "<div>\n",
       "<style scoped>\n",
       "    .dataframe tbody tr th:only-of-type {\n",
       "        vertical-align: middle;\n",
       "    }\n",
       "\n",
       "    .dataframe tbody tr th {\n",
       "        vertical-align: top;\n",
       "    }\n",
       "\n",
       "    .dataframe thead th {\n",
       "        text-align: right;\n",
       "    }\n",
       "</style>\n",
       "<table border=\"1\" class=\"dataframe\">\n",
       "  <thead>\n",
       "    <tr style=\"text-align: right;\">\n",
       "      <th></th>\n",
       "      <th>Result</th>\n",
       "      <th>Text</th>\n",
       "      <th>Translated_Text</th>\n",
       "    </tr>\n",
       "  </thead>\n",
       "  <tbody>\n",
       "    <tr>\n",
       "      <th>0</th>\n",
       "      <td>yes</td>\n",
       "      <td>I'm going crazy, I'm in the first healthy rela...</td>\n",
       "      <td>Deliriyorum, hayatımın ilk sağlıklı ilişkisind...</td>\n",
       "    </tr>\n",
       "    <tr>\n",
       "      <th>1</th>\n",
       "      <td>yes</td>\n",
       "      <td>I feel my crazy emotions returning.</td>\n",
       "      <td>Çılgın duygularımın geri döndüğünü hissediyorum.</td>\n",
       "    </tr>\n",
       "    <tr>\n",
       "      <th>2</th>\n",
       "      <td>yes</td>\n",
       "      <td>I'm so tired of going from good to bad...I'm j...</td>\n",
       "      <td>İyiden kötüye gitmekten çok yoruldum...Aşağılı...</td>\n",
       "    </tr>\n",
       "    <tr>\n",
       "      <th>3</th>\n",
       "      <td>yes</td>\n",
       "      <td>I constantly feel like i’m on the verge of ful...</td>\n",
       "      <td>Sürekli olarak kendimi tamamen kaybetmenin ve ...</td>\n",
       "    </tr>\n",
       "    <tr>\n",
       "      <th>4</th>\n",
       "      <td>yes</td>\n",
       "      <td>I’m really stuck in my life right now and need...</td>\n",
       "      <td>Şu anda gerçekten hayatımda sıkışıp kaldım ve ...</td>\n",
       "    </tr>\n",
       "    <tr>\n",
       "      <th>...</th>\n",
       "      <td>...</td>\n",
       "      <td>...</td>\n",
       "      <td>...</td>\n",
       "    </tr>\n",
       "    <tr>\n",
       "      <th>1495</th>\n",
       "      <td>yes</td>\n",
       "      <td>I thought it was just plain ol’ PPD, but now t...</td>\n",
       "      <td>Bunun sadece düz bir PPD olduğunu düşündüm, an...</td>\n",
       "    </tr>\n",
       "    <tr>\n",
       "      <th>1496</th>\n",
       "      <td>yes</td>\n",
       "      <td>I have panicked and went to the doctor, got an...</td>\n",
       "      <td>Panikledim ve doktora gittim, EKG aldım. İlk b...</td>\n",
       "    </tr>\n",
       "    <tr>\n",
       "      <th>1497</th>\n",
       "      <td>yes</td>\n",
       "      <td>I hate my body and self</td>\n",
       "      <td>Bedenimden ve kendimden nefret ediyorum.</td>\n",
       "    </tr>\n",
       "    <tr>\n",
       "      <th>1498</th>\n",
       "      <td>yes</td>\n",
       "      <td>I've had bad cramps, a heavy flow and just don...</td>\n",
       "      <td>Kötü kramplar, ağır bir akış yaşadım ve sadece...</td>\n",
       "    </tr>\n",
       "    <tr>\n",
       "      <th>1499</th>\n",
       "      <td>yes</td>\n",
       "      <td>I was anxious and panicking every night lmao. ...</td>\n",
       "      <td>Her gece telaşlı ve panik halindeydim. Her şey...</td>\n",
       "    </tr>\n",
       "  </tbody>\n",
       "</table>\n",
       "<p>1500 rows × 3 columns</p>\n",
       "</div>"
      ],
      "text/plain": [
       "     Result                                               Text  \\\n",
       "0       yes  I'm going crazy, I'm in the first healthy rela...   \n",
       "1       yes                I feel my crazy emotions returning.   \n",
       "2       yes  I'm so tired of going from good to bad...I'm j...   \n",
       "3       yes  I constantly feel like i’m on the verge of ful...   \n",
       "4       yes  I’m really stuck in my life right now and need...   \n",
       "...     ...                                                ...   \n",
       "1495    yes  I thought it was just plain ol’ PPD, but now t...   \n",
       "1496    yes  I have panicked and went to the doctor, got an...   \n",
       "1497    yes                            I hate my body and self   \n",
       "1498    yes  I've had bad cramps, a heavy flow and just don...   \n",
       "1499    yes  I was anxious and panicking every night lmao. ...   \n",
       "\n",
       "                                        Translated_Text  \n",
       "0     Deliriyorum, hayatımın ilk sağlıklı ilişkisind...  \n",
       "1      Çılgın duygularımın geri döndüğünü hissediyorum.  \n",
       "2     İyiden kötüye gitmekten çok yoruldum...Aşağılı...  \n",
       "3     Sürekli olarak kendimi tamamen kaybetmenin ve ...  \n",
       "4     Şu anda gerçekten hayatımda sıkışıp kaldım ve ...  \n",
       "...                                                 ...  \n",
       "1495  Bunun sadece düz bir PPD olduğunu düşündüm, an...  \n",
       "1496  Panikledim ve doktora gittim, EKG aldım. İlk b...  \n",
       "1497           Bedenimden ve kendimden nefret ediyorum.  \n",
       "1498  Kötü kramplar, ağır bir akış yaşadım ve sadece...  \n",
       "1499  Her gece telaşlı ve panik halindeydim. Her şey...  \n",
       "\n",
       "[1500 rows x 3 columns]"
      ]
     },
     "execution_count": 4,
     "metadata": {},
     "output_type": "execute_result"
    }
   ],
   "source": [
    "anxiety_total_data = pd.read_excel(\"../Data/Expurgated_Data/Reddit/pmdd_expurgated.xlsx\") # You can change it\n",
    "anxiety_total_data"
   ]
  },
  {
   "cell_type": "markdown",
   "id": "eedec730-6eae-4999-9893-4141aa954f79",
   "metadata": {},
   "source": [
    "## Augmentation (Main process)"
   ]
  },
  {
   "cell_type": "code",
   "execution_count": 5,
   "id": "c9c9cd48-73db-41a2-82da-2d5bbbfdfb9a",
   "metadata": {},
   "outputs": [],
   "source": [
    "mistake_sentences = []"
   ]
  },
  {
   "cell_type": "code",
   "execution_count": 6,
   "id": "abdcd13e-7420-42f6-85e2-dca7a4e7afc0",
   "metadata": {},
   "outputs": [],
   "source": [
    "def submission_prediction(sentence: str):\n",
    "    global mistake_sentences\n",
    "    \n",
    "    response = model.generate_content(\"\"\"\n",
    "    Sen verilen cümleyi genel anlam ve kelime anlamı olarak analiz edip bu cümleden esinlenerek benzer cümleler oluşturan bir sentetik veri üreticisisin.\n",
    "\n",
    "    \\n\\n\n",
    "\n",
    "    Aşağıda verilen cümleyi genel anlam ve kelime anlamı olarak analiz et ve anla. Anlamı anladıktan sonra bu cümleyi söyleyen bir \n",
    "    insan bu cümleye benzer nasıl cümleler demiş olabilir bunlardan 5 adet uzunluğu orijinal cümleyle yakın olan cümleleri\n",
    "    sadece ve sadece aşağıdaki python liste formatındaki gibi yaz. Başka hiçbir şey yazma:\n",
    "    Çıktı formatı: [\"<cumle1>\", \"<cumle2>\", \"<cumle3>\", \"<cumle4>\", \"<cumle5>\"]\n",
    "    \n",
    "    \\n\\n\n",
    "    Cümle: \"\"\" + sentence)\n",
    "\n",
    "    try:\n",
    "        pattern = re.compile(r'\\[.*?\\]', re.DOTALL)\n",
    "        # print(response.text)\n",
    "        match = pattern.search(response.text)\n",
    "        if match:\n",
    "            response_json = ast.literal_eval(match.group(0))\n",
    "            return response_json\n",
    "        \n",
    "        else:\n",
    "            mistake_sentences.append(sentence)\n",
    "            print(\"It could not be augmented.\")\n",
    "            return []\n",
    "            \n",
    "    except Exception as err:\n",
    "        mistake_sentences.append(sentence)\n",
    "        print(\"It could not be augmented. Err:\", err)\n",
    "        return []\n",
    "\n",
    "    "
   ]
  },
  {
   "cell_type": "markdown",
   "id": "b894a64f-c319-4f7f-b11d-5031d86570c4",
   "metadata": {},
   "source": [
    "## Running Example For SM"
   ]
  },
  {
   "cell_type": "code",
   "execution_count": 7,
   "id": "eaf0b5c7-8984-4b86-bb1c-7279ad8207a1",
   "metadata": {},
   "outputs": [],
   "source": [
    "selectivemutism_augmented_texts = []"
   ]
  },
  {
   "cell_type": "code",
   "execution_count": 8,
   "id": "bd8af7f2-ae43-4b3c-84c8-62254f402e1c",
   "metadata": {},
   "outputs": [],
   "source": [
    "anxiety_total_data = anxiety_total_data.dropna().reset_index(drop=True)"
   ]
  },
  {
   "cell_type": "code",
   "execution_count": 12,
   "id": "07c9c4bc-202d-4e1e-a167-66ac366254a6",
   "metadata": {},
   "outputs": [
    {
     "name": "stderr",
     "output_type": "stream",
     "text": [
      "100%|██████████████████████████████████████████████████████████████████████████████| 1500/1500 [12:21<00:00,  2.02it/s]\n"
     ]
    }
   ],
   "source": [
    "selectivemutism_texts =  anxiety_total_data['Translated_Text'].values\n",
    "\n",
    "for text in tqdm(selectivemutism_texts):\n",
    "    if text not in selectivemutism_augmented_texts:  \n",
    "        selectivemutism_augmented_texts.append(text)\n",
    "        \n",
    "        augmented_text_list = submission_prediction(sentence=text)\n",
    "    \n",
    "        selectivemutism_augmented_texts.extend(augmented_text_list)\n",
    "        time.sleep(4.1)"
   ]
  },
  {
   "cell_type": "code",
   "execution_count": 15,
   "id": "9881180d-ab9e-4f61-b3c3-509f36577895",
   "metadata": {},
   "outputs": [
    {
     "data": {
      "text/plain": [
       "8930"
      ]
     },
     "execution_count": 15,
     "metadata": {},
     "output_type": "execute_result"
    }
   ],
   "source": [
    "len(selectivemutism_augmented_texts)"
   ]
  },
  {
   "cell_type": "code",
   "execution_count": 14,
   "id": "b489968c-0faf-41f1-8c56-e75a30fbeb43",
   "metadata": {},
   "outputs": [],
   "source": [
    "import pickle\n",
    "\n",
    "with open('../Data/pmdd_1_augmented_data.pkl', 'wb') as file:\n",
    "    pickle.dump(selectivemutism_augmented_texts, file)"
   ]
  },
  {
   "cell_type": "code",
   "execution_count": null,
   "id": "e45c3362-4939-4eac-92eb-8bfc1659c792",
   "metadata": {},
   "outputs": [],
   "source": []
  }
 ],
 "metadata": {
  "kernelspec": {
   "display_name": "Psynexa Torch GPU (Python 3.11)",
   "language": "python",
   "name": "your_env_name"
  },
  "language_info": {
   "codemirror_mode": {
    "name": "ipython",
    "version": 3
   },
   "file_extension": ".py",
   "mimetype": "text/x-python",
   "name": "python",
   "nbconvert_exporter": "python",
   "pygments_lexer": "ipython3",
   "version": "3.11.5"
  }
 },
 "nbformat": 4,
 "nbformat_minor": 5
}
